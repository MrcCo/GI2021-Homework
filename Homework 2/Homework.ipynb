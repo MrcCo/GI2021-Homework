{
 "cells": [
  {
   "cell_type": "code",
   "execution_count": 2,
   "metadata": {},
   "outputs": [],
   "source": [
    "import pysam"
   ]
  },
  {
   "cell_type": "code",
   "execution_count": 3,
   "metadata": {},
   "outputs": [
    {
     "name": "stdout",
     "output_type": "stream",
     "text": [
      "TTTTCAAACAGTATCTATGCCTGCCAAATGTGAACATATAAAAAAAAACCAGAATGTGCCATTCTGATTTAAACTG\n",
      "1187\n",
      "0\n",
      "27\n",
      "[('XA', 'GL000217.1,-110754,76M,1;'), ('BD', 'NNNNNNNNNNNNNNNNNNNNNNNNNNNNNNNNNNNNNNNNNNNNNNNNNNNNNNNNNNNNNNNNNNNNNNNNNNNN'), ('MD', '76'), ('RG', '1'), ('BI', 'NNNNNNNNNNNNNNNNNNNNNNNNNNNNNNNNNNNNNNNNNNNNNNNNNNNNNNNNNNNNNNNNNNNNNNNNNNNN'), ('NM', 0), ('MQ', 27), ('AS', 76), ('XS', 71)]\n",
      "[(0, 76)]\n"
     ]
    }
   ],
   "source": [
    "alignment_file = pysam.AlignmentFile(\"/sbgenomics/project-files/merged-tumor.bam\")\n",
    "for read in alignment_file:\n",
    "    print(read.query_sequence)\n",
    "    print(read.flag)\n",
    "    print(read.mapping_quality)\n",
    "    print(read.tags)\n",
    "    print(read.cigar)\n",
    "    break"
   ]
  },
  {
   "cell_type": "code",
   "execution_count": 7,
   "metadata": {},
   "outputs": [
    {
     "name": "stdout",
     "output_type": "stream",
     "text": [
      "Number of unmapped reads: 17765\n",
      "Total number of reads: 2921629\n",
      "Number of reads with 0 mapping quality: 126628\n",
      "Average mapping quality: 55.91379158681681\n",
      "Average mapping quality, excluding zeros: 58.446975510921106\n"
     ]
    }
   ],
   "source": [
    "# Analysis\n",
    "\n",
    "alignment_file = pysam.AlignmentFile(\"/sbgenomics/project-files/merged-tumor.bam\")\n",
    "\n",
    "number_of_unmapped_reads = 0\n",
    "number_of_reads = 0\n",
    "number_of_zero_mapping_quelity_reads = 0\n",
    "total = 0\n",
    "for read in alignment_file:\n",
    "    number_of_reads += 1\n",
    "    total += read.mapping_quality\n",
    "    if read.mapping_quality == 0:\n",
    "        number_of_zero_mapping_quelity_reads += 1\n",
    "    if (read.flag & 0x4) != 0 :\n",
    "        number_of_unmapped_reads += 1\n",
    "        \n",
    "average = total / number_of_reads\n",
    "average_without_zero_reads = total / (number_of_reads - number_of_zero_mapping_quelity_reads)\n",
    "\n",
    "print(f\"Number of unmapped reads: {number_of_unmapped_reads}\")\n",
    "print(f\"Total number of reads: {number_of_reads}\")\n",
    "print(f\"Number of reads with 0 mapping quality: {number_of_zero_mapping_quelity_reads}\")\n",
    "print(f\"Average mapping quality: {average}\")\n",
    "print(f\"Average mapping quality, excluding zeros: {average_without_zero_reads}\")"
   ]
  }
 ],
 "metadata": {
  "kernelspec": {
   "display_name": "Python 3",
   "language": "python",
   "name": "python3"
  },
  "language_info": {
   "codemirror_mode": {
    "name": "ipython",
    "version": 3
   },
   "file_extension": ".py",
   "mimetype": "text/x-python",
   "name": "python",
   "nbconvert_exporter": "python",
   "pygments_lexer": "ipython3",
   "version": "3.8.3"
  }
 },
 "nbformat": 4,
 "nbformat_minor": 4
}
